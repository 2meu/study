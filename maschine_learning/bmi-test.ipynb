{
 "cells": [
  {
   "cell_type": "code",
   "execution_count": 3,
   "metadata": {},
   "outputs": [],
   "source": [
    "from sklearn import svm, metrics\n",
    "from sklearn.model_selection import train_test_split\n",
    "import matplotlib.pyplot as plt\n",
    "import pandas as pd"
   ]
  },
  {
   "cell_type": "code",
   "execution_count": 8,
   "metadata": {},
   "outputs": [],
   "source": [
    "tbl = pd.read_csv(\"bmi.csv\")"
   ]
  },
  {
   "cell_type": "code",
   "execution_count": 9,
   "metadata": {},
   "outputs": [
    {
     "name": "stdout",
     "output_type": "stream",
     "text": [
      "       height  weight   label\n",
      "0         123      38  normal\n",
      "1         175      49    thin\n",
      "2         178      38    thin\n",
      "3         125      43  normal\n",
      "4         140      51  normal\n",
      "5         152      53     fat\n",
      "6         137      63  normal\n",
      "7         189      64    thin\n",
      "8         145      77  normal\n",
      "9         120      51  normal\n",
      "10        178      56    thin\n",
      "11        200      67    thin\n",
      "12        152      40    thin\n",
      "13        161      72  normal\n",
      "14        134      41     fat\n",
      "15        149      71  normal\n",
      "16        151      68  normal\n",
      "17        149      65  normal\n",
      "18        143      66  normal\n",
      "19        184      41    thin\n",
      "20        182      43    thin\n",
      "21        144      63  normal\n",
      "22        139      79  normal\n",
      "23        198      77     fat\n",
      "24        165      47    thin\n",
      "25        136      59  normal\n",
      "26        151      47     fat\n",
      "27        152      52     fat\n",
      "28        129      47  normal\n",
      "29        192      63    thin\n",
      "...       ...     ...     ...\n",
      "19970     142      71  normal\n",
      "19971     133      67  normal\n",
      "19972     200      64    thin\n",
      "19973     167      44    thin\n",
      "19974     187      76     fat\n",
      "19975     174      47    thin\n",
      "19976     133      60  normal\n",
      "19977     166      53     fat\n",
      "19978     153      42    thin\n",
      "19979     194      51    thin\n",
      "19980     156      35    thin\n",
      "19981     180      55    thin\n",
      "19982     186      57    thin\n",
      "19983     142      51  normal\n",
      "19984     159      72  normal\n",
      "19985     142      45     fat\n",
      "19986     160      52     fat\n",
      "19987     164      52     fat\n",
      "19988     170      37    thin\n",
      "19989     198      58    thin\n",
      "19990     200      73    thin\n",
      "19991     186      61    thin\n",
      "19992     122      56  normal\n",
      "19993     185      40    thin\n",
      "19994     191      43    thin\n",
      "19995     194      45    thin\n",
      "19996     175      74     fat\n",
      "19997     169      52    thin\n",
      "19998     139      57  normal\n",
      "19999     171      39    thin\n",
      "\n",
      "[20000 rows x 3 columns]\n"
     ]
    }
   ],
   "source": [
    "print(tbl)"
   ]
  },
  {
   "cell_type": "code",
   "execution_count": 14,
   "metadata": {},
   "outputs": [],
   "source": [
    "label = tbl[\"label\"]\n",
    "w = tbl[\"weight\"]/100 \n",
    "h = tbl[\"height\"]/200\n",
    "wh = pd.concat([w,h], axis=1)"
   ]
  },
  {
   "cell_type": "code",
   "execution_count": 15,
   "metadata": {},
   "outputs": [],
   "source": [
    "data_train, data_test, label_train, label_test = train_test_split(wh, label)"
   ]
  },
  {
   "cell_type": "code",
   "execution_count": 17,
   "metadata": {},
   "outputs": [
    {
     "name": "stderr",
     "output_type": "stream",
     "text": [
      "C:\\Users\\zlslsp54\\Anaconda3\\envs\\tensorflow\\lib\\site-packages\\sklearn\\svm\\base.py:196: FutureWarning: The default value of gamma will change from 'auto' to 'scale' in version 0.22 to account better for unscaled features. Set gamma explicitly to 'auto' or 'scale' to avoid this warning.\n",
      "  \"avoid this warning.\", FutureWarning)\n"
     ]
    },
    {
     "data": {
      "text/plain": [
       "SVC(C=1.0, cache_size=200, class_weight=None, coef0=0.0,\n",
       "  decision_function_shape='ovr', degree=3, gamma='auto_deprecated',\n",
       "  kernel='rbf', max_iter=-1, probability=False, random_state=None,\n",
       "  shrinking=True, tol=0.001, verbose=False)"
      ]
     },
     "execution_count": 17,
     "metadata": {},
     "output_type": "execute_result"
    }
   ],
   "source": [
    "clf = svm.SVC()\n",
    "clf.fit(data_train, label_train)"
   ]
  },
  {
   "cell_type": "code",
   "execution_count": 18,
   "metadata": {},
   "outputs": [],
   "source": [
    "predict = clf.predict(data_test)"
   ]
  },
  {
   "cell_type": "code",
   "execution_count": 19,
   "metadata": {},
   "outputs": [],
   "source": [
    "ac_score = metrics.accuracy_score(label_test, predict)\n",
    "cl_report = metrics.classification_report(label_test, predict)"
   ]
  },
  {
   "cell_type": "code",
   "execution_count": 20,
   "metadata": {},
   "outputs": [
    {
     "name": "stdout",
     "output_type": "stream",
     "text": [
      "정답률= 0.992\n",
      "리포트=\n",
      "               precision    recall  f1-score   support\n",
      "\n",
      "         fat       0.98      0.99      0.99      1471\n",
      "      normal       1.00      0.99      1.00      1939\n",
      "        thin       0.99      0.99      0.99      1590\n",
      "\n",
      "   micro avg       0.99      0.99      0.99      5000\n",
      "   macro avg       0.99      0.99      0.99      5000\n",
      "weighted avg       0.99      0.99      0.99      5000\n",
      "\n"
     ]
    }
   ],
   "source": [
    "print(\"정답률=\", ac_score)\n",
    "print(\"리포트=\\n\", cl_report)"
   ]
  },
  {
   "cell_type": "code",
   "execution_count": null,
   "metadata": {},
   "outputs": [],
   "source": []
  }
 ],
 "metadata": {
  "kernelspec": {
   "display_name": "Python 3",
   "language": "python",
   "name": "python3"
  },
  "language_info": {
   "codemirror_mode": {
    "name": "ipython",
    "version": 3
   },
   "file_extension": ".py",
   "mimetype": "text/x-python",
   "name": "python",
   "nbconvert_exporter": "python",
   "pygments_lexer": "ipython3",
   "version": "3.6.5"
  }
 },
 "nbformat": 4,
 "nbformat_minor": 2
}
