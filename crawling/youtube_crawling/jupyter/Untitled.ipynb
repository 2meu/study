{
 "cells": [
  {
   "cell_type": "code",
   "execution_count": 40,
   "metadata": {},
   "outputs": [
    {
     "name": "stdout",
     "output_type": "stream",
     "text": [
      "<!DOCTYPE html>\n",
      "<html lang=\"ko\">\n",
      " <head>\n",
      "  <meta charset=\"utf-8\"/>\n",
      "  <title>\n",
      "   제목\n",
      "  </title>\n",
      " </head>\n",
      " <body>\n",
      "  <h1>\n",
      "   제목1\n",
      "  </h1>\n",
      "  <p>\n",
      "   내용1...\n",
      "  </p>\n",
      "  <h1>\n",
      "   제목2\n",
      "  </h1>\n",
      "  <p>\n",
      "   내용2...\n",
      "  </p>\n",
      " </body>\n",
      "</html>\n",
      "\n"
     ]
    }
   ],
   "source": [
    "from bs4 import BeautifulSoup\n",
    " \n",
    "html = '''<!DOCTYPE html>\n",
    "<html lang=\"ko\">\n",
    "<head>\n",
    "    <meta charset=\"utf-8\" />\n",
    "    <title>제목</title>\n",
    "</head>\n",
    "<body>\n",
    "<h1>제목1</h1>\n",
    "<p>\n",
    "    내용1...\n",
    "</p>\n",
    "<h1>제목2</h1>\n",
    "<p>\n",
    "    내용2...\n",
    "</p>\n",
    "</body>\n",
    "</html>\n",
    "'''\n",
    "\n",
    "soup = BeautifulSoup(html, 'html.parser')\n",
    "print(soup.prettify())"
   ]
  },
  {
   "cell_type": "raw",
   "metadata": {},
   "source": []
  },
  {
   "cell_type": "code",
   "execution_count": 85,
   "metadata": {},
   "outputs": [
    {
     "ename": "AttributeError",
     "evalue": "'NoneType' object has no attribute 'string'",
     "output_type": "error",
     "traceback": [
      "\u001b[1;31m---------------------------------------------------------------------------\u001b[0m",
      "\u001b[1;31mAttributeError\u001b[0m                            Traceback (most recent call last)",
      "\u001b[1;32m<ipython-input-85-25f59747c1e1>\u001b[0m in \u001b[0;36m<module>\u001b[1;34m()\u001b[0m\n\u001b[0;32m     54\u001b[0m \u001b[1;31m#print(soup.find_all('', {'class':'sister'}))\u001b[0m\u001b[1;33m\u001b[0m\u001b[1;33m\u001b[0m\u001b[0m\n\u001b[0;32m     55\u001b[0m \u001b[1;33m\u001b[0m\u001b[0m\n\u001b[1;32m---> 56\u001b[1;33m \u001b[0mprint\u001b[0m\u001b[1;33m(\u001b[0m\u001b[0msoup\u001b[0m\u001b[1;33m.\u001b[0m\u001b[0mfind\u001b[0m\u001b[1;33m(\u001b[0m\u001b[1;34m'p.story > a#link1'\u001b[0m\u001b[1;33m)\u001b[0m\u001b[1;33m.\u001b[0m\u001b[0mstring\u001b[0m\u001b[1;33m)\u001b[0m\u001b[1;33m\u001b[0m\u001b[0m\n\u001b[0m",
      "\u001b[1;31mAttributeError\u001b[0m: 'NoneType' object has no attribute 'string'"
     ]
    }
   ],
   "source": [
    "from bs4 import BeautifulSoup\n",
    "\n",
    "html = '''<!DOCTYPE html>\n",
    "<html>\n",
    "<head><title>The Dormouse's story</title></head>\n",
    "<body>\n",
    "<p class=\"title\"><b>The Dormouse's story</b></p>\n",
    "<p class=\"story\">\n",
    "    Once upon a time there were three little sisters; and their names were\n",
    "    <a href=\"http://example.com/elsie\" class=\"sister\" id=\"link1\">Elsie</a>,\n",
    "    <a href=\"http://example.com/lacie\" class=\"sister\" id=\"link2\">Lacie</a> and\n",
    "    <a href=\"http://example.com/tillie\" class=\"sister brother\" id=\"link3\">Tillie</a>;\n",
    "    and they lived at the bottom of a well.\n",
    "</p>\n",
    "</body>\n",
    "</html>\n",
    "'''\n",
    "\n",
    "soup = BeautifulSoup(html, 'html.parser')\n",
    "\n",
    "#element\n",
    "#print(soup.title)\n",
    "#print(soup.find('title'))\n",
    "\n",
    "#tag\n",
    "#print(soup.title.name)\n",
    "\n",
    "#text\n",
    "#print(soup.title.string)\n",
    "#print(soup.title.get_text())\n",
    "\n",
    "#single element\n",
    "#print(soup.a.string)\n",
    "#print(soup.find('a').string)\n",
    "\n",
    "#multi element\n",
    "#print(soup.find_all('a'))\n",
    "#print(soup.find_all('a')[0].string)\n",
    "#print(soup.find_all('a')[1].string)\n",
    "\n",
    "# attribute\n",
    "\n",
    "#print(soup.a['class'])\n",
    "#print(soup.a.get('class'))\n",
    "#print(soup.a['href'])\n",
    "#print(soup.a.attrs['href'])\n",
    "\n",
    "# find by id\n",
    "#print(soup.find(id='link1'))\n",
    "#print(soup.find('', {'id':'link1'}))\n",
    "\n",
    "# find by class\n",
    "#print(soup.find_all(class_='sister'))\n",
    "#print(soup.find_all('', {'class':'sister'}))\n",
    "\n",
    "print(soup.find('p.story > a#link1').string)"
   ]
  },
  {
   "cell_type": "code",
   "execution_count": null,
   "metadata": {},
   "outputs": [],
   "source": []
  }
 ],
 "metadata": {
  "kernelspec": {
   "display_name": "Python 3",
   "language": "python",
   "name": "python3"
  },
  "language_info": {
   "codemirror_mode": {
    "name": "ipython",
    "version": 3
   },
   "file_extension": ".py",
   "mimetype": "text/x-python",
   "name": "python",
   "nbconvert_exporter": "python",
   "pygments_lexer": "ipython3",
   "version": "3.6.5"
  }
 },
 "nbformat": 4,
 "nbformat_minor": 2
}
