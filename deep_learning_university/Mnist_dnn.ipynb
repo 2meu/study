{
 "cells": [
  {
   "cell_type": "code",
   "execution_count": 29,
   "metadata": {},
   "outputs": [],
   "source": [
    "%matplotlib inline"
   ]
  },
  {
   "cell_type": "code",
   "execution_count": 60,
   "metadata": {},
   "outputs": [],
   "source": [
    "import numpy as np\n",
    "import matplotlib.pyplot as plt\n",
    "from keras.datasets import mnist\n",
    "from keras.utils import np_utils\n",
    "from keras.models import Sequential\n",
    "from keras.layers import Dense\n",
    "from keras.optimizers import SGD\n",
    "\n",
    "np.random.seed(42)"
   ]
  },
  {
   "cell_type": "code",
   "execution_count": 61,
   "metadata": {},
   "outputs": [],
   "source": [
    "(X_train, Y_train), (X_test, Y_test) = mnist.load_data()"
   ]
  },
  {
   "cell_type": "code",
   "execution_count": 62,
   "metadata": {},
   "outputs": [],
   "source": [
    "X_train = X_train.astype(np.float32)/255\n",
    "X_test = X_test.astype(np.float32)/255\n",
    "\n",
    "X_train = X_train.reshape(-1, 784) #-1은 전 거랑 호환이 되도록 넘파이가 알아서 계산해주세여 라는 의미\n",
    "X_test = X_test.reshape(-1, 784)\n",
    "\n",
    "Y_train = np_utils.to_categorical(Y_train, 10)\n",
    "Y_test = np_utils.to_categorical(Y_test, 10)\n",
    "\n",
    "input_shape = X_train.shape[1:]"
   ]
  },
  {
   "cell_type": "code",
   "execution_count": 18,
   "metadata": {},
   "outputs": [],
   "source": [
    "model = Sequential()\n",
    "model.add(Dense(16, input_shape = input_shape, activation='sigmoid'))\n",
    "model.add(Dense(32, activation='sigmoid'))\n",
    "model.add(Dense(10, activation='softmax'))\n",
    "\n",
    "model.compile(loss='categorical_crossentropy', optimizer='sgd', metrics=['accuracy'])"
   ]
  },
  {
   "cell_type": "code",
   "execution_count": null,
   "metadata": {},
   "outputs": [],
   "source": [
    "from keras import regularizers\n",
    "\n",
    "model = Sequential()\n",
    "model.add(Dense(16, input_shape = input_shape, activation='sigmoid',\n",
    "               kernel_regularizer=regularizers.l2(0.1),\n",
    "               activity_regularizer=regularizers.l1(0.1)))\n",
    "model.add(Dense(32, activation='sigmoid'))\n",
    "model.add(Dense(10, activation='softmax'))\n",
    "\n",
    "model.compile(loss='categorical_crossentropy', optimizer='sgd', metrics=['accuracy'])"
   ]
  },
  {
   "cell_type": "code",
   "execution_count": 43,
   "metadata": {},
   "outputs": [],
   "source": [
    "from keras.layers import Dropout\n",
    "\n",
    "model = Sequential()\n",
    "model.add(Dense(16, input_shape = input_shape, activation='sigmoid'))\n",
    "model.add(Dropout(0.2))\n",
    "model.add(Dense(32, activation='sigmoid'))\n",
    "model.add(Dense(10, activation='softmax'))\n",
    "\n",
    "model.compile(loss='categorical_crossentropy', optimizer='sgd', metrics=['accuracy'])"
   ]
  },
  {
   "cell_type": "code",
   "execution_count": 44,
   "metadata": {},
   "outputs": [
    {
     "name": "stdout",
     "output_type": "stream",
     "text": [
      "Train on 45000 samples, validate on 15000 samples\n",
      "Epoch 1/100\n",
      "45000/45000 [==============================] - 3s 65us/step - loss: 2.2813 - acc: 0.1569 - val_loss: 2.2364 - val_acc: 0.3307\n",
      "Epoch 2/100\n",
      "45000/45000 [==============================] - 2s 51us/step - loss: 2.1807 - acc: 0.3191 - val_loss: 2.0940 - val_acc: 0.4189\n",
      "Epoch 3/100\n",
      "45000/45000 [==============================] - 2s 53us/step - loss: 1.9868 - acc: 0.4237 - val_loss: 1.8258 - val_acc: 0.5131\n",
      "Epoch 4/100\n",
      "45000/45000 [==============================] - 3s 58us/step - loss: 1.7197 - acc: 0.4953 - val_loss: 1.5288 - val_acc: 0.6047\n",
      "Epoch 5/100\n",
      "45000/45000 [==============================] - 3s 62us/step - loss: 1.4735 - acc: 0.5560 - val_loss: 1.2885 - val_acc: 0.6513\n",
      "Epoch 6/100\n",
      "45000/45000 [==============================] - 3s 70us/step - loss: 1.2878 - acc: 0.6068 - val_loss: 1.1128 - val_acc: 0.7107\n",
      "Epoch 7/100\n",
      "45000/45000 [==============================] - 4s 83us/step - loss: 1.1544 - acc: 0.6442 - val_loss: 0.9830 - val_acc: 0.7381\n",
      "Epoch 8/100\n",
      "45000/45000 [==============================] - 3s 62us/step - loss: 1.0531 - acc: 0.6747 - val_loss: 0.8862 - val_acc: 0.7688\n",
      "Epoch 9/100\n",
      "45000/45000 [==============================] - 2s 55us/step - loss: 0.9774 - acc: 0.6991 - val_loss: 0.8124 - val_acc: 0.7869\n",
      "Epoch 10/100\n",
      "45000/45000 [==============================] - 3s 65us/step - loss: 0.9190 - acc: 0.7132 - val_loss: 0.7525 - val_acc: 0.8078\n",
      "Epoch 11/100\n",
      "45000/45000 [==============================] - 2s 51us/step - loss: 0.8645 - acc: 0.7365 - val_loss: 0.7015 - val_acc: 0.8195\n",
      "Epoch 12/100\n",
      "45000/45000 [==============================] - 3s 68us/step - loss: 0.8252 - acc: 0.7456 - val_loss: 0.6596 - val_acc: 0.8333\n",
      "Epoch 13/100\n",
      "45000/45000 [==============================] - 4s 86us/step - loss: 0.7915 - acc: 0.7595 - val_loss: 0.6243 - val_acc: 0.8387\n",
      "Epoch 14/100\n",
      "45000/45000 [==============================] - 3s 74us/step - loss: 0.7590 - acc: 0.7676 - val_loss: 0.5942 - val_acc: 0.8464\n",
      "Epoch 15/100\n",
      "45000/45000 [==============================] - 3s 62us/step - loss: 0.7337 - acc: 0.7770 - val_loss: 0.5677 - val_acc: 0.8532\n",
      "Epoch 16/100\n",
      "45000/45000 [==============================] - 2s 49us/step - loss: 0.7099 - acc: 0.7810 - val_loss: 0.5461 - val_acc: 0.8565\n",
      "Epoch 17/100\n",
      "45000/45000 [==============================] - 2s 48us/step - loss: 0.6916 - acc: 0.7891 - val_loss: 0.5260 - val_acc: 0.8625\n",
      "Epoch 18/100\n",
      "45000/45000 [==============================] - 2s 47us/step - loss: 0.6760 - acc: 0.7932 - val_loss: 0.5098 - val_acc: 0.8655\n",
      "Epoch 19/100\n",
      "45000/45000 [==============================] - 2s 53us/step - loss: 0.6562 - acc: 0.8002 - val_loss: 0.4945 - val_acc: 0.8690\n",
      "Epoch 20/100\n",
      "45000/45000 [==============================] - 3s 59us/step - loss: 0.6428 - acc: 0.8040 - val_loss: 0.4807 - val_acc: 0.8732\n",
      "Epoch 21/100\n",
      "45000/45000 [==============================] - 2s 49us/step - loss: 0.6280 - acc: 0.8091 - val_loss: 0.4669 - val_acc: 0.8763\n",
      "Epoch 22/100\n",
      "45000/45000 [==============================] - 2s 50us/step - loss: 0.6200 - acc: 0.8118 - val_loss: 0.4578 - val_acc: 0.8779\n",
      "Epoch 23/100\n",
      "45000/45000 [==============================] - 2s 50us/step - loss: 0.6067 - acc: 0.8169 - val_loss: 0.4472 - val_acc: 0.8815\n",
      "Epoch 24/100\n",
      "45000/45000 [==============================] - 2s 48us/step - loss: 0.5984 - acc: 0.8206 - val_loss: 0.4385 - val_acc: 0.8833\n",
      "Epoch 25/100\n",
      "45000/45000 [==============================] - 2s 52us/step - loss: 0.5921 - acc: 0.8190 - val_loss: 0.4304 - val_acc: 0.8847\n",
      "Epoch 26/100\n",
      "45000/45000 [==============================] - 2s 53us/step - loss: 0.5809 - acc: 0.8225 - val_loss: 0.4209 - val_acc: 0.8871\n",
      "Epoch 27/100\n",
      "45000/45000 [==============================] - 2s 48us/step - loss: 0.5716 - acc: 0.8262 - val_loss: 0.4132 - val_acc: 0.8883\n",
      "Epoch 28/100\n",
      "45000/45000 [==============================] - 2s 51us/step - loss: 0.5655 - acc: 0.8281 - val_loss: 0.4061 - val_acc: 0.8907\n",
      "Epoch 29/100\n",
      "45000/45000 [==============================] - 2s 50us/step - loss: 0.5566 - acc: 0.8301 - val_loss: 0.4005 - val_acc: 0.8912\n",
      "Epoch 30/100\n",
      "45000/45000 [==============================] - 2s 49us/step - loss: 0.5508 - acc: 0.8315 - val_loss: 0.3926 - val_acc: 0.8940\n",
      "Epoch 31/100\n",
      "45000/45000 [==============================] - 3s 56us/step - loss: 0.5482 - acc: 0.8326 - val_loss: 0.3883 - val_acc: 0.8945\n",
      "Epoch 32/100\n",
      "45000/45000 [==============================] - 2s 48us/step - loss: 0.5356 - acc: 0.8362 - val_loss: 0.3809 - val_acc: 0.8961\n",
      "Epoch 33/100\n",
      "45000/45000 [==============================] - 3s 56us/step - loss: 0.5303 - acc: 0.8374 - val_loss: 0.3758 - val_acc: 0.8968\n",
      "Epoch 34/100\n",
      "45000/45000 [==============================] - 2s 51us/step - loss: 0.5254 - acc: 0.8418 - val_loss: 0.3720 - val_acc: 0.8984\n",
      "Epoch 35/100\n",
      "45000/45000 [==============================] - 2s 48us/step - loss: 0.5209 - acc: 0.8412 - val_loss: 0.3665 - val_acc: 0.9005\n",
      "Epoch 36/100\n",
      "45000/45000 [==============================] - 2s 50us/step - loss: 0.5158 - acc: 0.8446 - val_loss: 0.3622 - val_acc: 0.9009\n",
      "Epoch 37/100\n",
      "45000/45000 [==============================] - 2s 48us/step - loss: 0.5115 - acc: 0.8453 - val_loss: 0.3578 - val_acc: 0.9011\n",
      "Epoch 38/100\n",
      "45000/45000 [==============================] - 2s 51us/step - loss: 0.5044 - acc: 0.8484 - val_loss: 0.3540 - val_acc: 0.9031\n",
      "Epoch 39/100\n",
      "45000/45000 [==============================] - 2s 49us/step - loss: 0.5002 - acc: 0.8476 - val_loss: 0.3493 - val_acc: 0.9041\n",
      "Epoch 40/100\n",
      "45000/45000 [==============================] - 2s 49us/step - loss: 0.4924 - acc: 0.8500 - val_loss: 0.3453 - val_acc: 0.9061\n",
      "Epoch 41/100\n",
      "45000/45000 [==============================] - 2s 47us/step - loss: 0.4929 - acc: 0.8497 - val_loss: 0.3424 - val_acc: 0.9052\n",
      "Epoch 42/100\n",
      "45000/45000 [==============================] - 2s 47us/step - loss: 0.4885 - acc: 0.8510 - val_loss: 0.3398 - val_acc: 0.9065\n",
      "Epoch 43/100\n",
      "45000/45000 [==============================] - 2s 48us/step - loss: 0.4854 - acc: 0.8523 - val_loss: 0.3373 - val_acc: 0.9068\n",
      "Epoch 44/100\n",
      "45000/45000 [==============================] - 2s 48us/step - loss: 0.4813 - acc: 0.8534 - val_loss: 0.3346 - val_acc: 0.9076\n",
      "Epoch 45/100\n",
      "45000/45000 [==============================] - 2s 47us/step - loss: 0.4778 - acc: 0.8542 - val_loss: 0.3308 - val_acc: 0.9083\n",
      "Epoch 46/100\n",
      "45000/45000 [==============================] - 2s 47us/step - loss: 0.4726 - acc: 0.8573 - val_loss: 0.3305 - val_acc: 0.9088\n",
      "Epoch 47/100\n",
      "45000/45000 [==============================] - 2s 49us/step - loss: 0.4693 - acc: 0.8571 - val_loss: 0.3271 - val_acc: 0.9090\n",
      "Epoch 48/100\n",
      "45000/45000 [==============================] - 2s 54us/step - loss: 0.4690 - acc: 0.8577 - val_loss: 0.3235 - val_acc: 0.9099\n",
      "Epoch 49/100\n",
      "45000/45000 [==============================] - 2s 52us/step - loss: 0.4662 - acc: 0.8578 - val_loss: 0.3206 - val_acc: 0.9115\n",
      "Epoch 50/100\n",
      "45000/45000 [==============================] - 2s 50us/step - loss: 0.4594 - acc: 0.8608 - val_loss: 0.3190 - val_acc: 0.9111\n",
      "Epoch 51/100\n",
      "45000/45000 [==============================] - 2s 52us/step - loss: 0.4624 - acc: 0.8609 - val_loss: 0.3169 - val_acc: 0.9125\n",
      "Epoch 52/100\n",
      "45000/45000 [==============================] - 2s 49us/step - loss: 0.4575 - acc: 0.8596 - val_loss: 0.3163 - val_acc: 0.9119\n",
      "Epoch 53/100\n",
      "45000/45000 [==============================] - 2s 53us/step - loss: 0.4589 - acc: 0.8612 - val_loss: 0.3135 - val_acc: 0.9127\n",
      "Epoch 54/100\n",
      "45000/45000 [==============================] - 2s 50us/step - loss: 0.4529 - acc: 0.8645 - val_loss: 0.3106 - val_acc: 0.9139\n",
      "Epoch 55/100\n",
      "45000/45000 [==============================] - 2s 48us/step - loss: 0.4482 - acc: 0.8631 - val_loss: 0.3104 - val_acc: 0.9133\n",
      "Epoch 56/100\n",
      "45000/45000 [==============================] - 2s 50us/step - loss: 0.4446 - acc: 0.8659 - val_loss: 0.3079 - val_acc: 0.9148\n",
      "Epoch 57/100\n",
      "45000/45000 [==============================] - 2s 50us/step - loss: 0.4438 - acc: 0.8636 - val_loss: 0.3067 - val_acc: 0.9140\n",
      "Epoch 58/100\n",
      "45000/45000 [==============================] - 3s 58us/step - loss: 0.4456 - acc: 0.8633 - val_loss: 0.3061 - val_acc: 0.9149\n",
      "Epoch 59/100\n"
     ]
    },
    {
     "name": "stdout",
     "output_type": "stream",
     "text": [
      "45000/45000 [==============================] - 3s 63us/step - loss: 0.4431 - acc: 0.8651 - val_loss: 0.3049 - val_acc: 0.9146\n",
      "Epoch 60/100\n",
      "45000/45000 [==============================] - 4s 79us/step - loss: 0.4431 - acc: 0.8655 - val_loss: 0.3021 - val_acc: 0.9157\n",
      "Epoch 61/100\n",
      "45000/45000 [==============================] - 4s 79us/step - loss: 0.4370 - acc: 0.8667 - val_loss: 0.3020 - val_acc: 0.9151\n",
      "Epoch 62/100\n",
      "45000/45000 [==============================] - 3s 71us/step - loss: 0.4363 - acc: 0.8661 - val_loss: 0.3001 - val_acc: 0.9164\n",
      "Epoch 63/100\n",
      "45000/45000 [==============================] - 3s 73us/step - loss: 0.4332 - acc: 0.8690 - val_loss: 0.2979 - val_acc: 0.9169\n",
      "Epoch 64/100\n",
      "45000/45000 [==============================] - 3s 74us/step - loss: 0.4300 - acc: 0.8687 - val_loss: 0.2981 - val_acc: 0.9164\n",
      "Epoch 65/100\n",
      "45000/45000 [==============================] - 3s 76us/step - loss: 0.4323 - acc: 0.8698 - val_loss: 0.2950 - val_acc: 0.9181\n",
      "Epoch 66/100\n",
      "45000/45000 [==============================] - 4s 79us/step - loss: 0.4303 - acc: 0.8696 - val_loss: 0.2953 - val_acc: 0.9169\n",
      "Epoch 67/100\n",
      "45000/45000 [==============================] - 4s 80us/step - loss: 0.4280 - acc: 0.8691 - val_loss: 0.2935 - val_acc: 0.9178\n",
      "Epoch 68/100\n",
      "45000/45000 [==============================] - 3s 64us/step - loss: 0.4235 - acc: 0.8696 - val_loss: 0.2916 - val_acc: 0.9179\n",
      "Epoch 69/100\n",
      "45000/45000 [==============================] - 3s 69us/step - loss: 0.4231 - acc: 0.8708 - val_loss: 0.2909 - val_acc: 0.9182\n",
      "Epoch 70/100\n",
      "45000/45000 [==============================] - 2s 50us/step - loss: 0.4296 - acc: 0.8684 - val_loss: 0.2918 - val_acc: 0.9179\n",
      "Epoch 71/100\n",
      "45000/45000 [==============================] - 2s 48us/step - loss: 0.4212 - acc: 0.8733 - val_loss: 0.2887 - val_acc: 0.9191\n",
      "Epoch 72/100\n",
      "45000/45000 [==============================] - 2s 46us/step - loss: 0.4168 - acc: 0.8732 - val_loss: 0.2874 - val_acc: 0.9194\n",
      "Epoch 73/100\n",
      "45000/45000 [==============================] - 2s 49us/step - loss: 0.4135 - acc: 0.8747 - val_loss: 0.2864 - val_acc: 0.9198\n",
      "Epoch 74/100\n",
      "45000/45000 [==============================] - 2s 48us/step - loss: 0.4167 - acc: 0.8722 - val_loss: 0.2874 - val_acc: 0.9194\n",
      "Epoch 75/100\n",
      "45000/45000 [==============================] - 2s 51us/step - loss: 0.4148 - acc: 0.8740 - val_loss: 0.2852 - val_acc: 0.9205\n",
      "Epoch 76/100\n",
      "45000/45000 [==============================] - 2s 55us/step - loss: 0.4171 - acc: 0.8726 - val_loss: 0.2856 - val_acc: 0.9201\n",
      "Epoch 77/100\n",
      "45000/45000 [==============================] - 3s 69us/step - loss: 0.4142 - acc: 0.8742 - val_loss: 0.2834 - val_acc: 0.9209\n",
      "Epoch 78/100\n",
      "45000/45000 [==============================] - 2s 48us/step - loss: 0.4130 - acc: 0.8736 - val_loss: 0.2818 - val_acc: 0.9210\n",
      "Epoch 79/100\n",
      "45000/45000 [==============================] - 3s 77us/step - loss: 0.4123 - acc: 0.8753 - val_loss: 0.2825 - val_acc: 0.9210\n",
      "Epoch 80/100\n",
      "45000/45000 [==============================] - 2s 55us/step - loss: 0.4076 - acc: 0.8756 - val_loss: 0.2810 - val_acc: 0.9211\n",
      "Epoch 81/100\n",
      "45000/45000 [==============================] - 3s 60us/step - loss: 0.4115 - acc: 0.8742 - val_loss: 0.2795 - val_acc: 0.9217\n",
      "Epoch 82/100\n",
      "45000/45000 [==============================] - 3s 58us/step - loss: 0.4070 - acc: 0.8769 - val_loss: 0.2794 - val_acc: 0.9220\n",
      "Epoch 83/100\n",
      "45000/45000 [==============================] - 2s 53us/step - loss: 0.4102 - acc: 0.8761 - val_loss: 0.2776 - val_acc: 0.9225\n",
      "Epoch 84/100\n",
      "45000/45000 [==============================] - 3s 56us/step - loss: 0.4048 - acc: 0.8778 - val_loss: 0.2768 - val_acc: 0.9219\n",
      "Epoch 85/100\n",
      "45000/45000 [==============================] - 3s 58us/step - loss: 0.4018 - acc: 0.8774 - val_loss: 0.2766 - val_acc: 0.9221\n",
      "Epoch 86/100\n",
      "45000/45000 [==============================] - 3s 63us/step - loss: 0.4035 - acc: 0.8772 - val_loss: 0.2750 - val_acc: 0.9227\n",
      "Epoch 87/100\n",
      "45000/45000 [==============================] - 3s 58us/step - loss: 0.3996 - acc: 0.8790 - val_loss: 0.2753 - val_acc: 0.9234\n",
      "Epoch 88/100\n",
      "45000/45000 [==============================] - 2s 55us/step - loss: 0.3974 - acc: 0.8798 - val_loss: 0.2750 - val_acc: 0.9229\n",
      "Epoch 89/100\n",
      "45000/45000 [==============================] - 3s 56us/step - loss: 0.3982 - acc: 0.8800 - val_loss: 0.2728 - val_acc: 0.9231\n",
      "Epoch 90/100\n",
      "45000/45000 [==============================] - 3s 56us/step - loss: 0.4027 - acc: 0.8772 - val_loss: 0.2738 - val_acc: 0.9230\n",
      "Epoch 91/100\n",
      "45000/45000 [==============================] - 2s 51us/step - loss: 0.4010 - acc: 0.8782 - val_loss: 0.2727 - val_acc: 0.9233\n",
      "Epoch 92/100\n",
      "45000/45000 [==============================] - 2s 53us/step - loss: 0.3969 - acc: 0.8781 - val_loss: 0.2717 - val_acc: 0.9235\n",
      "Epoch 93/100\n",
      "45000/45000 [==============================] - 3s 68us/step - loss: 0.3986 - acc: 0.8800 - val_loss: 0.2711 - val_acc: 0.9242\n",
      "Epoch 94/100\n",
      "45000/45000 [==============================] - 3s 67us/step - loss: 0.3974 - acc: 0.8788 - val_loss: 0.2711 - val_acc: 0.9240\n",
      "Epoch 95/100\n",
      "45000/45000 [==============================] - 3s 75us/step - loss: 0.3969 - acc: 0.8791 - val_loss: 0.2710 - val_acc: 0.9237\n",
      "Epoch 96/100\n",
      "45000/45000 [==============================] - 2s 54us/step - loss: 0.3945 - acc: 0.8818 - val_loss: 0.2689 - val_acc: 0.9238\n",
      "Epoch 97/100\n",
      "45000/45000 [==============================] - 2s 48us/step - loss: 0.3922 - acc: 0.8800 - val_loss: 0.2691 - val_acc: 0.9239\n",
      "Epoch 98/100\n",
      "45000/45000 [==============================] - 2s 48us/step - loss: 0.3899 - acc: 0.8818 - val_loss: 0.2690 - val_acc: 0.9242\n",
      "Epoch 99/100\n",
      "45000/45000 [==============================] - 2s 49us/step - loss: 0.3938 - acc: 0.8808 - val_loss: 0.2680 - val_acc: 0.9237\n",
      "Epoch 100/100\n",
      "45000/45000 [==============================] - 2s 48us/step - loss: 0.3922 - acc: 0.8801 - val_loss: 0.2682 - val_acc: 0.9243\n"
     ]
    },
    {
     "data": {
      "text/plain": [
       "<keras.callbacks.History at 0x148236eea20>"
      ]
     },
     "execution_count": 44,
     "metadata": {},
     "output_type": "execute_result"
    }
   ],
   "source": [
    "model.fit(X_train, Y_train, epochs=100, verbose=1, batch_size=32, validation_split=0.25)"
   ]
  },
  {
   "cell_type": "code",
   "execution_count": 39,
   "metadata": {},
   "outputs": [
    {
     "name": "stdout",
     "output_type": "stream",
     "text": [
      "10000/10000 [==============================] - 0s 39us/step\n",
      "Test loss:  2.320127284240723 accuracy:  0.101\n"
     ]
    }
   ],
   "source": [
    "mev = model.evaluate(X_test, Y_test, verbose=1)\n",
    "\n",
    "print('Test loss: ', mev[0], 'accuracy: ', mev[1])"
   ]
  },
  {
   "cell_type": "code",
   "execution_count": 40,
   "metadata": {
    "scrolled": true
   },
   "outputs": [
    {
     "name": "stdout",
     "output_type": "stream",
     "text": [
      "[[0.10210951 0.10421055 0.10054464 0.10621414 0.09532657 0.09356301\n",
      "  0.09372699 0.10397591 0.10040878 0.09992   ]]\n",
      "3\n",
      "[0. 0. 0. 0. 0. 0. 0. 1. 0. 0.]\n"
     ]
    },
    {
     "data": {
      "text/plain": [
       "<matplotlib.image.AxesImage at 0x148236c0518>"
      ]
     },
     "execution_count": 40,
     "metadata": {},
     "output_type": "execute_result"
    },
    {
     "data": {
      "image/png": "[encoded data removed]",
      "text/plain": [
       "<Figure size 432x288 with 1 Axes>"
      ]
     },
     "metadata": {
      "needs_background": "light"
     },
     "output_type": "display_data"
    }
   ],
   "source": [
    "#predict\n",
    "rst = model.predict(X_test[0:1])\n",
    "print(rst)\n",
    "print(np.argmax(rst))\n",
    "print(Y_test[0])\n",
    "plt.imshow(X_test[0].reshape(28,28))"
   ]
  },
  {
   "cell_type": "code",
   "execution_count": null,
   "metadata": {},
   "outputs": [],
   "source": []
  },
  {
   "cell_type": "code",
   "execution_count": 54,
   "metadata": {},
   "outputs": [
    {
     "data": {
      "text/plain": [
       "<keras.wrappers.scikit_learn.KerasClassifier at 0x148259e39e8>"
      ]
     },
     "execution_count": 54,
     "metadata": {},
     "output_type": "execute_result"
    }
   ],
   "source": [
    "def getModel(input_shape, dropout_rate='0.25', optimizer='adam'):\n",
    "\n",
    "    model = Sequential()\n",
    "    model.add(Dense(16, input_shape = input_shape, activation='sigmoid'))\n",
    "    model.add(Dropout(dropout_rate))\n",
    "    model.add(Dense(32, activation='sigmoid'))\n",
    "    model.add(Dropout(dropout_rate))\n",
    "    model.add(Dense(10, activation='softmax'))\n",
    "\n",
    "    model.compile(loss='categorical_crossentropy', optimizer='sgd', metrics=['accuracy'])\n",
    "\n",
    "return model"
   ]
  },
  {
   "cell_type": "code",
   "execution_count": 55,
   "metadata": {},
   "outputs": [],
   "source": [
    "from keras.wrappers.scikit_learn import KerasClassifier\n",
    "\n",
    "model = KerasClassifier(build_fn=getModel, epochs=100, batch_size=32,\n",
    "                       verbose=1, input_shape=input_shape)"
   ]
  },
  {
   "cell_type": "code",
   "execution_count": 56,
   "metadata": {},
   "outputs": [],
   "source": [
    "from sklearn.model_selection import GridSearchCV\n",
    "\n",
    "dropout_rate = [0.1, 0.2, 0.25, 0.5]\n",
    "param_grid = dict(dropout_rate = dropout_rate)"
   ]
  },
  {
   "cell_type": "code",
   "execution_count": 57,
   "metadata": {},
   "outputs": [
    {
     "ename": "AttributeError",
     "evalue": "'NoneType' object has no attribute 'loss'",
     "output_type": "error",
     "traceback": [
      "\u001b[1;31m---------------------------------------------------------------------------\u001b[0m",
      "\u001b[1;31mAttributeError\u001b[0m                            Traceback (most recent call last)",
      "\u001b[1;32m<ipython-input-57-d7836ac1c706>\u001b[0m in \u001b[0;36m<module>\u001b[1;34m\u001b[0m\n\u001b[0;32m      1\u001b[0m \u001b[0mgrid\u001b[0m \u001b[1;33m=\u001b[0m \u001b[0mGridSearchCV\u001b[0m\u001b[1;33m(\u001b[0m\u001b[0mestimator\u001b[0m\u001b[1;33m=\u001b[0m\u001b[0mmodel\u001b[0m\u001b[1;33m,\u001b[0m \u001b[0mparam_grid\u001b[0m\u001b[1;33m=\u001b[0m\u001b[0mparam_grid\u001b[0m\u001b[1;33m,\u001b[0m \u001b[0mcv\u001b[0m\u001b[1;33m=\u001b[0m\u001b[1;36m5\u001b[0m\u001b[1;33m)\u001b[0m\u001b[1;33m\u001b[0m\u001b[1;33m\u001b[0m\u001b[0m\n\u001b[1;32m----> 2\u001b[1;33m \u001b[0mgrid_result\u001b[0m \u001b[1;33m=\u001b[0m \u001b[0mgrid\u001b[0m\u001b[1;33m.\u001b[0m\u001b[0mfit\u001b[0m\u001b[1;33m(\u001b[0m\u001b[0mX_train\u001b[0m\u001b[1;33m,\u001b[0m \u001b[0mY_train\u001b[0m\u001b[1;33m)\u001b[0m\u001b[1;33m\u001b[0m\u001b[1;33m\u001b[0m\u001b[0m\n\u001b[0m",
      "\u001b[1;32m~\\Anaconda3\\envs\\tensorflow\\lib\\site-packages\\sklearn\\model_selection\\_search.py\u001b[0m in \u001b[0;36mfit\u001b[1;34m(self, X, y, groups, **fit_params)\u001b[0m\n\u001b[0;32m    720\u001b[0m                 \u001b[1;32mreturn\u001b[0m \u001b[0mresults_container\u001b[0m\u001b[1;33m[\u001b[0m\u001b[1;36m0\u001b[0m\u001b[1;33m]\u001b[0m\u001b[1;33m\u001b[0m\u001b[1;33m\u001b[0m\u001b[0m\n\u001b[0;32m    721\u001b[0m \u001b[1;33m\u001b[0m\u001b[0m\n\u001b[1;32m--> 722\u001b[1;33m             \u001b[0mself\u001b[0m\u001b[1;33m.\u001b[0m\u001b[0m_run_search\u001b[0m\u001b[1;33m(\u001b[0m\u001b[0mevaluate_candidates\u001b[0m\u001b[1;33m)\u001b[0m\u001b[1;33m\u001b[0m\u001b[1;33m\u001b[0m\u001b[0m\n\u001b[0m\u001b[0;32m    723\u001b[0m \u001b[1;33m\u001b[0m\u001b[0m\n\u001b[0;32m    724\u001b[0m         \u001b[0mresults\u001b[0m \u001b[1;33m=\u001b[0m \u001b[0mresults_container\u001b[0m\u001b[1;33m[\u001b[0m\u001b[1;36m0\u001b[0m\u001b[1;33m]\u001b[0m\u001b[1;33m\u001b[0m\u001b[1;33m\u001b[0m\u001b[0m\n",
      "\u001b[1;32m~\\Anaconda3\\envs\\tensorflow\\lib\\site-packages\\sklearn\\model_selection\\_search.py\u001b[0m in \u001b[0;36m_run_search\u001b[1;34m(self, evaluate_candidates)\u001b[0m\n\u001b[0;32m   1189\u001b[0m     \u001b[1;32mdef\u001b[0m \u001b[0m_run_search\u001b[0m\u001b[1;33m(\u001b[0m\u001b[0mself\u001b[0m\u001b[1;33m,\u001b[0m \u001b[0mevaluate_candidates\u001b[0m\u001b[1;33m)\u001b[0m\u001b[1;33m:\u001b[0m\u001b[1;33m\u001b[0m\u001b[1;33m\u001b[0m\u001b[0m\n\u001b[0;32m   1190\u001b[0m         \u001b[1;34m\"\"\"Search all candidates in param_grid\"\"\"\u001b[0m\u001b[1;33m\u001b[0m\u001b[1;33m\u001b[0m\u001b[0m\n\u001b[1;32m-> 1191\u001b[1;33m         \u001b[0mevaluate_candidates\u001b[0m\u001b[1;33m(\u001b[0m\u001b[0mParameterGrid\u001b[0m\u001b[1;33m(\u001b[0m\u001b[0mself\u001b[0m\u001b[1;33m.\u001b[0m\u001b[0mparam_grid\u001b[0m\u001b[1;33m)\u001b[0m\u001b[1;33m)\u001b[0m\u001b[1;33m\u001b[0m\u001b[1;33m\u001b[0m\u001b[0m\n\u001b[0m\u001b[0;32m   1192\u001b[0m \u001b[1;33m\u001b[0m\u001b[0m\n\u001b[0;32m   1193\u001b[0m \u001b[1;33m\u001b[0m\u001b[0m\n",
      "\u001b[1;32m~\\Anaconda3\\envs\\tensorflow\\lib\\site-packages\\sklearn\\model_selection\\_search.py\u001b[0m in \u001b[0;36mevaluate_candidates\u001b[1;34m(candidate_params)\u001b[0m\n\u001b[0;32m    709\u001b[0m                                \u001b[1;32mfor\u001b[0m \u001b[0mparameters\u001b[0m\u001b[1;33m,\u001b[0m \u001b[1;33m(\u001b[0m\u001b[0mtrain\u001b[0m\u001b[1;33m,\u001b[0m \u001b[0mtest\u001b[0m\u001b[1;33m)\u001b[0m\u001b[1;33m\u001b[0m\u001b[1;33m\u001b[0m\u001b[0m\n\u001b[0;32m    710\u001b[0m                                in product(candidate_params,\n\u001b[1;32m--> 711\u001b[1;33m                                           cv.split(X, y, groups)))\n\u001b[0m\u001b[0;32m    712\u001b[0m \u001b[1;33m\u001b[0m\u001b[0m\n\u001b[0;32m    713\u001b[0m                 \u001b[0mall_candidate_params\u001b[0m\u001b[1;33m.\u001b[0m\u001b[0mextend\u001b[0m\u001b[1;33m(\u001b[0m\u001b[0mcandidate_params\u001b[0m\u001b[1;33m)\u001b[0m\u001b[1;33m\u001b[0m\u001b[1;33m\u001b[0m\u001b[0m\n",
      "\u001b[1;32m~\\Anaconda3\\envs\\tensorflow\\lib\\site-packages\\sklearn\\externals\\joblib\\parallel.py\u001b[0m in \u001b[0;36m__call__\u001b[1;34m(self, iterable)\u001b[0m\n\u001b[0;32m    915\u001b[0m             \u001b[1;31m# remaining jobs.\u001b[0m\u001b[1;33m\u001b[0m\u001b[1;33m\u001b[0m\u001b[1;33m\u001b[0m\u001b[0m\n\u001b[0;32m    916\u001b[0m             \u001b[0mself\u001b[0m\u001b[1;33m.\u001b[0m\u001b[0m_iterating\u001b[0m \u001b[1;33m=\u001b[0m \u001b[1;32mFalse\u001b[0m\u001b[1;33m\u001b[0m\u001b[1;33m\u001b[0m\u001b[0m\n\u001b[1;32m--> 917\u001b[1;33m             \u001b[1;32mif\u001b[0m \u001b[0mself\u001b[0m\u001b[1;33m.\u001b[0m\u001b[0mdispatch_one_batch\u001b[0m\u001b[1;33m(\u001b[0m\u001b[0miterator\u001b[0m\u001b[1;33m)\u001b[0m\u001b[1;33m:\u001b[0m\u001b[1;33m\u001b[0m\u001b[1;33m\u001b[0m\u001b[0m\n\u001b[0m\u001b[0;32m    918\u001b[0m                 \u001b[0mself\u001b[0m\u001b[1;33m.\u001b[0m\u001b[0m_iterating\u001b[0m \u001b[1;33m=\u001b[0m \u001b[0mself\u001b[0m\u001b[1;33m.\u001b[0m\u001b[0m_original_iterator\u001b[0m \u001b[1;32mis\u001b[0m \u001b[1;32mnot\u001b[0m \u001b[1;32mNone\u001b[0m\u001b[1;33m\u001b[0m\u001b[1;33m\u001b[0m\u001b[0m\n\u001b[0;32m    919\u001b[0m \u001b[1;33m\u001b[0m\u001b[0m\n",
      "\u001b[1;32m~\\Anaconda3\\envs\\tensorflow\\lib\\site-packages\\sklearn\\externals\\joblib\\parallel.py\u001b[0m in \u001b[0;36mdispatch_one_batch\u001b[1;34m(self, iterator)\u001b[0m\n\u001b[0;32m    757\u001b[0m                 \u001b[1;32mreturn\u001b[0m \u001b[1;32mFalse\u001b[0m\u001b[1;33m\u001b[0m\u001b[1;33m\u001b[0m\u001b[0m\n\u001b[0;32m    758\u001b[0m             \u001b[1;32melse\u001b[0m\u001b[1;33m:\u001b[0m\u001b[1;33m\u001b[0m\u001b[1;33m\u001b[0m\u001b[0m\n\u001b[1;32m--> 759\u001b[1;33m                 \u001b[0mself\u001b[0m\u001b[1;33m.\u001b[0m\u001b[0m_dispatch\u001b[0m\u001b[1;33m(\u001b[0m\u001b[0mtasks\u001b[0m\u001b[1;33m)\u001b[0m\u001b[1;33m\u001b[0m\u001b[1;33m\u001b[0m\u001b[0m\n\u001b[0m\u001b[0;32m    760\u001b[0m                 \u001b[1;32mreturn\u001b[0m \u001b[1;32mTrue\u001b[0m\u001b[1;33m\u001b[0m\u001b[1;33m\u001b[0m\u001b[0m\n\u001b[0;32m    761\u001b[0m \u001b[1;33m\u001b[0m\u001b[0m\n",
      "\u001b[1;32m~\\Anaconda3\\envs\\tensorflow\\lib\\site-packages\\sklearn\\externals\\joblib\\parallel.py\u001b[0m in \u001b[0;36m_dispatch\u001b[1;34m(self, batch)\u001b[0m\n\u001b[0;32m    714\u001b[0m         \u001b[1;32mwith\u001b[0m \u001b[0mself\u001b[0m\u001b[1;33m.\u001b[0m\u001b[0m_lock\u001b[0m\u001b[1;33m:\u001b[0m\u001b[1;33m\u001b[0m\u001b[1;33m\u001b[0m\u001b[0m\n\u001b[0;32m    715\u001b[0m             \u001b[0mjob_idx\u001b[0m \u001b[1;33m=\u001b[0m \u001b[0mlen\u001b[0m\u001b[1;33m(\u001b[0m\u001b[0mself\u001b[0m\u001b[1;33m.\u001b[0m\u001b[0m_jobs\u001b[0m\u001b[1;33m)\u001b[0m\u001b[1;33m\u001b[0m\u001b[1;33m\u001b[0m\u001b[0m\n\u001b[1;32m--> 716\u001b[1;33m             \u001b[0mjob\u001b[0m \u001b[1;33m=\u001b[0m \u001b[0mself\u001b[0m\u001b[1;33m.\u001b[0m\u001b[0m_backend\u001b[0m\u001b[1;33m.\u001b[0m\u001b[0mapply_async\u001b[0m\u001b[1;33m(\u001b[0m\u001b[0mbatch\u001b[0m\u001b[1;33m,\u001b[0m \u001b[0mcallback\u001b[0m\u001b[1;33m=\u001b[0m\u001b[0mcb\u001b[0m\u001b[1;33m)\u001b[0m\u001b[1;33m\u001b[0m\u001b[1;33m\u001b[0m\u001b[0m\n\u001b[0m\u001b[0;32m    717\u001b[0m             \u001b[1;31m# A job can complete so quickly than its callback is\u001b[0m\u001b[1;33m\u001b[0m\u001b[1;33m\u001b[0m\u001b[1;33m\u001b[0m\u001b[0m\n\u001b[0;32m    718\u001b[0m             \u001b[1;31m# called before we get here, causing self._jobs to\u001b[0m\u001b[1;33m\u001b[0m\u001b[1;33m\u001b[0m\u001b[1;33m\u001b[0m\u001b[0m\n",
      "\u001b[1;32m~\\Anaconda3\\envs\\tensorflow\\lib\\site-packages\\sklearn\\externals\\joblib\\_parallel_backends.py\u001b[0m in \u001b[0;36mapply_async\u001b[1;34m(self, func, callback)\u001b[0m\n\u001b[0;32m    180\u001b[0m     \u001b[1;32mdef\u001b[0m \u001b[0mapply_async\u001b[0m\u001b[1;33m(\u001b[0m\u001b[0mself\u001b[0m\u001b[1;33m,\u001b[0m \u001b[0mfunc\u001b[0m\u001b[1;33m,\u001b[0m \u001b[0mcallback\u001b[0m\u001b[1;33m=\u001b[0m\u001b[1;32mNone\u001b[0m\u001b[1;33m)\u001b[0m\u001b[1;33m:\u001b[0m\u001b[1;33m\u001b[0m\u001b[1;33m\u001b[0m\u001b[0m\n\u001b[0;32m    181\u001b[0m         \u001b[1;34m\"\"\"Schedule a func to be run\"\"\"\u001b[0m\u001b[1;33m\u001b[0m\u001b[1;33m\u001b[0m\u001b[0m\n\u001b[1;32m--> 182\u001b[1;33m         \u001b[0mresult\u001b[0m \u001b[1;33m=\u001b[0m \u001b[0mImmediateResult\u001b[0m\u001b[1;33m(\u001b[0m\u001b[0mfunc\u001b[0m\u001b[1;33m)\u001b[0m\u001b[1;33m\u001b[0m\u001b[1;33m\u001b[0m\u001b[0m\n\u001b[0m\u001b[0;32m    183\u001b[0m         \u001b[1;32mif\u001b[0m \u001b[0mcallback\u001b[0m\u001b[1;33m:\u001b[0m\u001b[1;33m\u001b[0m\u001b[1;33m\u001b[0m\u001b[0m\n\u001b[0;32m    184\u001b[0m             \u001b[0mcallback\u001b[0m\u001b[1;33m(\u001b[0m\u001b[0mresult\u001b[0m\u001b[1;33m)\u001b[0m\u001b[1;33m\u001b[0m\u001b[1;33m\u001b[0m\u001b[0m\n",
      "\u001b[1;32m~\\Anaconda3\\envs\\tensorflow\\lib\\site-packages\\sklearn\\externals\\joblib\\_parallel_backends.py\u001b[0m in \u001b[0;36m__init__\u001b[1;34m(self, batch)\u001b[0m\n\u001b[0;32m    547\u001b[0m         \u001b[1;31m# Don't delay the application, to avoid keeping the input\u001b[0m\u001b[1;33m\u001b[0m\u001b[1;33m\u001b[0m\u001b[1;33m\u001b[0m\u001b[0m\n\u001b[0;32m    548\u001b[0m         \u001b[1;31m# arguments in memory\u001b[0m\u001b[1;33m\u001b[0m\u001b[1;33m\u001b[0m\u001b[1;33m\u001b[0m\u001b[0m\n\u001b[1;32m--> 549\u001b[1;33m         \u001b[0mself\u001b[0m\u001b[1;33m.\u001b[0m\u001b[0mresults\u001b[0m \u001b[1;33m=\u001b[0m \u001b[0mbatch\u001b[0m\u001b[1;33m(\u001b[0m\u001b[1;33m)\u001b[0m\u001b[1;33m\u001b[0m\u001b[1;33m\u001b[0m\u001b[0m\n\u001b[0m\u001b[0;32m    550\u001b[0m \u001b[1;33m\u001b[0m\u001b[0m\n\u001b[0;32m    551\u001b[0m     \u001b[1;32mdef\u001b[0m \u001b[0mget\u001b[0m\u001b[1;33m(\u001b[0m\u001b[0mself\u001b[0m\u001b[1;33m)\u001b[0m\u001b[1;33m:\u001b[0m\u001b[1;33m\u001b[0m\u001b[1;33m\u001b[0m\u001b[0m\n",
      "\u001b[1;32m~\\Anaconda3\\envs\\tensorflow\\lib\\site-packages\\sklearn\\externals\\joblib\\parallel.py\u001b[0m in \u001b[0;36m__call__\u001b[1;34m(self)\u001b[0m\n\u001b[0;32m    223\u001b[0m         \u001b[1;32mwith\u001b[0m \u001b[0mparallel_backend\u001b[0m\u001b[1;33m(\u001b[0m\u001b[0mself\u001b[0m\u001b[1;33m.\u001b[0m\u001b[0m_backend\u001b[0m\u001b[1;33m,\u001b[0m \u001b[0mn_jobs\u001b[0m\u001b[1;33m=\u001b[0m\u001b[0mself\u001b[0m\u001b[1;33m.\u001b[0m\u001b[0m_n_jobs\u001b[0m\u001b[1;33m)\u001b[0m\u001b[1;33m:\u001b[0m\u001b[1;33m\u001b[0m\u001b[1;33m\u001b[0m\u001b[0m\n\u001b[0;32m    224\u001b[0m             return [func(*args, **kwargs)\n\u001b[1;32m--> 225\u001b[1;33m                     for func, args, kwargs in self.items]\n\u001b[0m\u001b[0;32m    226\u001b[0m \u001b[1;33m\u001b[0m\u001b[0m\n\u001b[0;32m    227\u001b[0m     \u001b[1;32mdef\u001b[0m \u001b[0m__len__\u001b[0m\u001b[1;33m(\u001b[0m\u001b[0mself\u001b[0m\u001b[1;33m)\u001b[0m\u001b[1;33m:\u001b[0m\u001b[1;33m\u001b[0m\u001b[1;33m\u001b[0m\u001b[0m\n",
      "\u001b[1;32m~\\Anaconda3\\envs\\tensorflow\\lib\\site-packages\\sklearn\\externals\\joblib\\parallel.py\u001b[0m in \u001b[0;36m<listcomp>\u001b[1;34m(.0)\u001b[0m\n\u001b[0;32m    223\u001b[0m         \u001b[1;32mwith\u001b[0m \u001b[0mparallel_backend\u001b[0m\u001b[1;33m(\u001b[0m\u001b[0mself\u001b[0m\u001b[1;33m.\u001b[0m\u001b[0m_backend\u001b[0m\u001b[1;33m,\u001b[0m \u001b[0mn_jobs\u001b[0m\u001b[1;33m=\u001b[0m\u001b[0mself\u001b[0m\u001b[1;33m.\u001b[0m\u001b[0m_n_jobs\u001b[0m\u001b[1;33m)\u001b[0m\u001b[1;33m:\u001b[0m\u001b[1;33m\u001b[0m\u001b[1;33m\u001b[0m\u001b[0m\n\u001b[0;32m    224\u001b[0m             return [func(*args, **kwargs)\n\u001b[1;32m--> 225\u001b[1;33m                     for func, args, kwargs in self.items]\n\u001b[0m\u001b[0;32m    226\u001b[0m \u001b[1;33m\u001b[0m\u001b[0m\n\u001b[0;32m    227\u001b[0m     \u001b[1;32mdef\u001b[0m \u001b[0m__len__\u001b[0m\u001b[1;33m(\u001b[0m\u001b[0mself\u001b[0m\u001b[1;33m)\u001b[0m\u001b[1;33m:\u001b[0m\u001b[1;33m\u001b[0m\u001b[1;33m\u001b[0m\u001b[0m\n",
      "\u001b[1;32m~\\Anaconda3\\envs\\tensorflow\\lib\\site-packages\\sklearn\\model_selection\\_validation.py\u001b[0m in \u001b[0;36m_fit_and_score\u001b[1;34m(estimator, X, y, scorer, train, test, verbose, parameters, fit_params, return_train_score, return_parameters, return_n_test_samples, return_times, return_estimator, error_score)\u001b[0m\n\u001b[0;32m    526\u001b[0m             \u001b[0mestimator\u001b[0m\u001b[1;33m.\u001b[0m\u001b[0mfit\u001b[0m\u001b[1;33m(\u001b[0m\u001b[0mX_train\u001b[0m\u001b[1;33m,\u001b[0m \u001b[1;33m**\u001b[0m\u001b[0mfit_params\u001b[0m\u001b[1;33m)\u001b[0m\u001b[1;33m\u001b[0m\u001b[1;33m\u001b[0m\u001b[0m\n\u001b[0;32m    527\u001b[0m         \u001b[1;32melse\u001b[0m\u001b[1;33m:\u001b[0m\u001b[1;33m\u001b[0m\u001b[1;33m\u001b[0m\u001b[0m\n\u001b[1;32m--> 528\u001b[1;33m             \u001b[0mestimator\u001b[0m\u001b[1;33m.\u001b[0m\u001b[0mfit\u001b[0m\u001b[1;33m(\u001b[0m\u001b[0mX_train\u001b[0m\u001b[1;33m,\u001b[0m \u001b[0my_train\u001b[0m\u001b[1;33m,\u001b[0m \u001b[1;33m**\u001b[0m\u001b[0mfit_params\u001b[0m\u001b[1;33m)\u001b[0m\u001b[1;33m\u001b[0m\u001b[1;33m\u001b[0m\u001b[0m\n\u001b[0m\u001b[0;32m    529\u001b[0m \u001b[1;33m\u001b[0m\u001b[0m\n\u001b[0;32m    530\u001b[0m     \u001b[1;32mexcept\u001b[0m \u001b[0mException\u001b[0m \u001b[1;32mas\u001b[0m \u001b[0me\u001b[0m\u001b[1;33m:\u001b[0m\u001b[1;33m\u001b[0m\u001b[1;33m\u001b[0m\u001b[0m\n",
      "\u001b[1;32m~\\Anaconda3\\envs\\tensorflow\\lib\\site-packages\\keras\\wrappers\\scikit_learn.py\u001b[0m in \u001b[0;36mfit\u001b[1;34m(self, x, y, sample_weight, **kwargs)\u001b[0m\n\u001b[0;32m    208\u001b[0m         \u001b[1;32mif\u001b[0m \u001b[0msample_weight\u001b[0m \u001b[1;32mis\u001b[0m \u001b[1;32mnot\u001b[0m \u001b[1;32mNone\u001b[0m\u001b[1;33m:\u001b[0m\u001b[1;33m\u001b[0m\u001b[1;33m\u001b[0m\u001b[0m\n\u001b[0;32m    209\u001b[0m             \u001b[0mkwargs\u001b[0m\u001b[1;33m[\u001b[0m\u001b[1;34m'sample_weight'\u001b[0m\u001b[1;33m]\u001b[0m \u001b[1;33m=\u001b[0m \u001b[0msample_weight\u001b[0m\u001b[1;33m\u001b[0m\u001b[1;33m\u001b[0m\u001b[0m\n\u001b[1;32m--> 210\u001b[1;33m         \u001b[1;32mreturn\u001b[0m \u001b[0msuper\u001b[0m\u001b[1;33m(\u001b[0m\u001b[0mKerasClassifier\u001b[0m\u001b[1;33m,\u001b[0m \u001b[0mself\u001b[0m\u001b[1;33m)\u001b[0m\u001b[1;33m.\u001b[0m\u001b[0mfit\u001b[0m\u001b[1;33m(\u001b[0m\u001b[0mx\u001b[0m\u001b[1;33m,\u001b[0m \u001b[0my\u001b[0m\u001b[1;33m,\u001b[0m \u001b[1;33m**\u001b[0m\u001b[0mkwargs\u001b[0m\u001b[1;33m)\u001b[0m\u001b[1;33m\u001b[0m\u001b[1;33m\u001b[0m\u001b[0m\n\u001b[0m\u001b[0;32m    211\u001b[0m \u001b[1;33m\u001b[0m\u001b[0m\n\u001b[0;32m    212\u001b[0m     \u001b[1;32mdef\u001b[0m \u001b[0mpredict\u001b[0m\u001b[1;33m(\u001b[0m\u001b[0mself\u001b[0m\u001b[1;33m,\u001b[0m \u001b[0mx\u001b[0m\u001b[1;33m,\u001b[0m \u001b[1;33m**\u001b[0m\u001b[0mkwargs\u001b[0m\u001b[1;33m)\u001b[0m\u001b[1;33m:\u001b[0m\u001b[1;33m\u001b[0m\u001b[1;33m\u001b[0m\u001b[0m\n",
      "\u001b[1;32m~\\Anaconda3\\envs\\tensorflow\\lib\\site-packages\\keras\\wrappers\\scikit_learn.py\u001b[0m in \u001b[0;36mfit\u001b[1;34m(self, x, y, **kwargs)\u001b[0m\n\u001b[0;32m    141\u001b[0m             \u001b[0mself\u001b[0m\u001b[1;33m.\u001b[0m\u001b[0mmodel\u001b[0m \u001b[1;33m=\u001b[0m \u001b[0mself\u001b[0m\u001b[1;33m.\u001b[0m\u001b[0mbuild_fn\u001b[0m\u001b[1;33m(\u001b[0m\u001b[1;33m**\u001b[0m\u001b[0mself\u001b[0m\u001b[1;33m.\u001b[0m\u001b[0mfilter_sk_params\u001b[0m\u001b[1;33m(\u001b[0m\u001b[0mself\u001b[0m\u001b[1;33m.\u001b[0m\u001b[0mbuild_fn\u001b[0m\u001b[1;33m)\u001b[0m\u001b[1;33m)\u001b[0m\u001b[1;33m\u001b[0m\u001b[1;33m\u001b[0m\u001b[0m\n\u001b[0;32m    142\u001b[0m \u001b[1;33m\u001b[0m\u001b[0m\n\u001b[1;32m--> 143\u001b[1;33m         \u001b[0mloss_name\u001b[0m \u001b[1;33m=\u001b[0m \u001b[0mself\u001b[0m\u001b[1;33m.\u001b[0m\u001b[0mmodel\u001b[0m\u001b[1;33m.\u001b[0m\u001b[0mloss\u001b[0m\u001b[1;33m\u001b[0m\u001b[1;33m\u001b[0m\u001b[0m\n\u001b[0m\u001b[0;32m    144\u001b[0m         \u001b[1;32mif\u001b[0m \u001b[0mhasattr\u001b[0m\u001b[1;33m(\u001b[0m\u001b[0mloss_name\u001b[0m\u001b[1;33m,\u001b[0m \u001b[1;34m'__name__'\u001b[0m\u001b[1;33m)\u001b[0m\u001b[1;33m:\u001b[0m\u001b[1;33m\u001b[0m\u001b[1;33m\u001b[0m\u001b[0m\n\u001b[0;32m    145\u001b[0m             \u001b[0mloss_name\u001b[0m \u001b[1;33m=\u001b[0m \u001b[0mloss_name\u001b[0m\u001b[1;33m.\u001b[0m\u001b[0m__name__\u001b[0m\u001b[1;33m\u001b[0m\u001b[1;33m\u001b[0m\u001b[0m\n",
      "\u001b[1;31mAttributeError\u001b[0m: 'NoneType' object has no attribute 'loss'"
     ]
    }
   ],
   "source": [
    "grid = GridSearchCV(estimator=model, param_grid=param_grid, cv=5)\n",
    "grid_result = grid.fit(X_train, Y_train)"
   ]
  },
  {
   "cell_type": "markdown",
   "metadata": {},
   "source": [
    "emsemble"
   ]
  },
  {
   "cell_type": "markdown",
   "metadata": {},
   "source": [
    "model1"
   ]
  },
  {
   "cell_type": "code",
   "execution_count": 66,
   "metadata": {},
   "outputs": [
    {
     "ename": "TypeError",
     "evalue": "raw_input() got an unexpected keyword argument 'shape'",
     "output_type": "error",
     "traceback": [
      "\u001b[1;31m---------------------------------------------------------------------------\u001b[0m",
      "\u001b[1;31mTypeError\u001b[0m                                 Traceback (most recent call last)",
      "\u001b[1;32m<ipython-input-66-524319d8d9eb>\u001b[0m in \u001b[0;36m<module>\u001b[1;34m\u001b[0m\n\u001b[1;32m----> 1\u001b[1;33m \u001b[0mi1\u001b[0m \u001b[1;33m=\u001b[0m \u001b[0minput\u001b[0m\u001b[1;33m(\u001b[0m\u001b[0mshape\u001b[0m\u001b[1;33m=\u001b[0m\u001b[1;33m(\u001b[0m\u001b[1;36m784\u001b[0m\u001b[1;33m,\u001b[0m\u001b[1;33m)\u001b[0m\u001b[1;33m)\u001b[0m\u001b[1;33m\u001b[0m\u001b[1;33m\u001b[0m\u001b[0m\n\u001b[0m\u001b[0;32m      2\u001b[0m \u001b[0mm1\u001b[0m \u001b[1;33m=\u001b[0m \u001b[0mDense\u001b[0m\u001b[1;33m(\u001b[0m\u001b[1;36m16\u001b[0m\u001b[1;33m,\u001b[0m \u001b[0mactivation\u001b[0m\u001b[1;33m=\u001b[0m\u001b[1;34m'sigmoid'\u001b[0m\u001b[1;33m)\u001b[0m\u001b[1;33m(\u001b[0m\u001b[0mi1\u001b[0m\u001b[1;33m)\u001b[0m\u001b[1;33m\u001b[0m\u001b[1;33m\u001b[0m\u001b[0m\n\u001b[0;32m      3\u001b[0m \u001b[0mm1\u001b[0m \u001b[1;33m=\u001b[0m \u001b[0mDense\u001b[0m\u001b[1;33m(\u001b[0m\u001b[1;36m32\u001b[0m\u001b[1;33m,\u001b[0m \u001b[0mactivation\u001b[0m\u001b[1;33m=\u001b[0m\u001b[1;34m'sigmoid'\u001b[0m\u001b[1;33m)\u001b[0m\u001b[1;33m(\u001b[0m\u001b[0mm1\u001b[0m\u001b[1;33m)\u001b[0m\u001b[1;33m\u001b[0m\u001b[1;33m\u001b[0m\u001b[0m\n\u001b[0;32m      4\u001b[0m \u001b[0mmodel1\u001b[0m \u001b[1;33m=\u001b[0m \u001b[0mModel\u001b[0m\u001b[1;33m(\u001b[0m\u001b[0minputs\u001b[0m\u001b[1;33m=\u001b[0m\u001b[0mi1\u001b[0m\u001b[1;33m,\u001b[0m \u001b[0moutputs\u001b[0m\u001b[1;33m=\u001b[0m\u001b[0mm1\u001b[0m\u001b[1;33m)\u001b[0m\u001b[1;33m\u001b[0m\u001b[1;33m\u001b[0m\u001b[0m\n",
      "\u001b[1;31mTypeError\u001b[0m: raw_input() got an unexpected keyword argument 'shape'"
     ]
    }
   ],
   "source": [
    "i1 = input(shape=(784,))\n",
    "m1 = Dense(16, activation='sigmoid')(i1)\n",
    "m1 = Dense(32, activation='sigmoid')(m1)\n",
    "model1 = Model(inputs=i1, outputs=m1)"
   ]
  },
  {
   "cell_type": "code",
   "execution_count": null,
   "metadata": {},
   "outputs": [],
   "source": []
  }
 ],
 "metadata": {
  "kernelspec": {
   "display_name": "Python 3",
   "language": "python",
   "name": "python3"
  },
  "language_info": {
   "codemirror_mode": {
    "name": "ipython",
    "version": 3
   },
   "file_extension": ".py",
   "mimetype": "text/x-python",
   "name": "python",
   "nbconvert_exporter": "python",
   "pygments_lexer": "ipython3",
   "version": "3.6.7"
  }
 },
 "nbformat": 4,
 "nbformat_minor": 2
}
